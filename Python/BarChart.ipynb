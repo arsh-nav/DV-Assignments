{
 "cells": [
  {
   "cell_type": "code",
   "execution_count": 1,
   "metadata": {},
   "outputs": [
    {
     "name": "stderr",
     "output_type": "stream",
     "text": [
      "C:\\Users\\Franc\\AppData\\Local\\Temp\\ipykernel_17640\\1588949626.py:2: DtypeWarning: Columns (0,1,2,8,9,12,13,15,17,18,19,21,22,23,24,25,28,29) have mixed types. Specify dtype option on import or set low_memory=False.\n",
      "  df = pd.read_csv(\"../../combined_file.csv\")\n"
     ]
    }
   ],
   "source": [
    "import pandas as pd\n",
    "df = pd.read_csv(\"../../combined_file.csv\")\n",
    "df.drop(['definition', 'column_name'], axis=1, inplace=True)"
   ]
  },
  {
   "cell_type": "code",
   "execution_count": 2,
   "metadata": {},
   "outputs": [
    {
     "name": "stderr",
     "output_type": "stream",
     "text": [
      "C:\\Users\\Franc\\AppData\\Local\\Temp\\ipykernel_17640\\2223491163.py:2: SettingWithCopyWarning: \n",
      "A value is trying to be set on a copy of a slice from a DataFrame\n",
      "\n",
      "See the caveats in the documentation: https://pandas.pydata.org/pandas-docs/stable/user_guide/indexing.html#returning-a-view-versus-a-copy\n",
      "  df1.dropna(subset=[\"common_name\"], inplace=True)\n",
      "C:\\Users\\Franc\\AppData\\Local\\Temp\\ipykernel_17640\\2223491163.py:3: SettingWithCopyWarning: \n",
      "A value is trying to be set on a copy of a slice from a DataFrame.\n",
      "Try using .loc[row_indexer,col_indexer] = value instead\n",
      "\n",
      "See the caveats in the documentation: https://pandas.pydata.org/pandas-docs/stable/user_guide/indexing.html#returning-a-view-versus-a-copy\n",
      "  df1[\"height_M\"] = df1[\"height_M\"].fillna(0)\n"
     ]
    },
    {
     "data": {
      "text/html": [
       "<div>\n",
       "<style scoped>\n",
       "    .dataframe tbody tr th:only-of-type {\n",
       "        vertical-align: middle;\n",
       "    }\n",
       "\n",
       "    .dataframe tbody tr th {\n",
       "        vertical-align: top;\n",
       "    }\n",
       "\n",
       "    .dataframe thead th {\n",
       "        text-align: right;\n",
       "    }\n",
       "</style>\n",
       "<table border=\"1\" class=\"dataframe\">\n",
       "  <thead>\n",
       "    <tr style=\"text-align: right;\">\n",
       "      <th></th>\n",
       "      <th>city</th>\n",
       "      <th>common_name</th>\n",
       "      <th>height_M</th>\n",
       "    </tr>\n",
       "  </thead>\n",
       "  <tbody>\n",
       "    <tr>\n",
       "      <th>0</th>\n",
       "      <td>Albuquerque</td>\n",
       "      <td>Locust</td>\n",
       "      <td>0.0000</td>\n",
       "    </tr>\n",
       "    <tr>\n",
       "      <th>1</th>\n",
       "      <td>Albuquerque</td>\n",
       "      <td>Oak</td>\n",
       "      <td>0.0000</td>\n",
       "    </tr>\n",
       "    <tr>\n",
       "      <th>2</th>\n",
       "      <td>Albuquerque</td>\n",
       "      <td>Ash</td>\n",
       "      <td>0.0000</td>\n",
       "    </tr>\n",
       "    <tr>\n",
       "      <th>4</th>\n",
       "      <td>Albuquerque</td>\n",
       "      <td>Honeylocust</td>\n",
       "      <td>98.4252</td>\n",
       "    </tr>\n",
       "    <tr>\n",
       "      <th>5</th>\n",
       "      <td>Albuquerque</td>\n",
       "      <td>Honeylocust</td>\n",
       "      <td>114.8294</td>\n",
       "    </tr>\n",
       "    <tr>\n",
       "      <th>6</th>\n",
       "      <td>Albuquerque</td>\n",
       "      <td>Elm hybrid</td>\n",
       "      <td>98.4252</td>\n",
       "    </tr>\n",
       "    <tr>\n",
       "      <th>7</th>\n",
       "      <td>Albuquerque</td>\n",
       "      <td>Elm hybrid</td>\n",
       "      <td>82.0210</td>\n",
       "    </tr>\n",
       "    <tr>\n",
       "      <th>8</th>\n",
       "      <td>Albuquerque</td>\n",
       "      <td>Ash</td>\n",
       "      <td>49.2126</td>\n",
       "    </tr>\n",
       "    <tr>\n",
       "      <th>9</th>\n",
       "      <td>Albuquerque</td>\n",
       "      <td>Elm hybrid</td>\n",
       "      <td>82.0210</td>\n",
       "    </tr>\n",
       "    <tr>\n",
       "      <th>10</th>\n",
       "      <td>Albuquerque</td>\n",
       "      <td>Ash</td>\n",
       "      <td>65.6168</td>\n",
       "    </tr>\n",
       "  </tbody>\n",
       "</table>\n",
       "</div>"
      ],
      "text/plain": [
       "           city  common_name  height_M\n",
       "0   Albuquerque       Locust    0.0000\n",
       "1   Albuquerque          Oak    0.0000\n",
       "2   Albuquerque          Ash    0.0000\n",
       "4   Albuquerque  Honeylocust   98.4252\n",
       "5   Albuquerque  Honeylocust  114.8294\n",
       "6   Albuquerque   Elm hybrid   98.4252\n",
       "7   Albuquerque   Elm hybrid   82.0210\n",
       "8   Albuquerque          Ash   49.2126\n",
       "9   Albuquerque   Elm hybrid   82.0210\n",
       "10  Albuquerque          Ash   65.6168"
      ]
     },
     "execution_count": 2,
     "metadata": {},
     "output_type": "execute_result"
    }
   ],
   "source": [
    "df1 = df[[\"city\", \"common_name\", \"height_M\"]]\n",
    "df1.dropna(subset=[\"common_name\"], inplace=True)\n",
    "df1[\"height_M\"] = df1[\"height_M\"].fillna(0)\n",
    "df1 = df1[(df1[\"height_M\"] < 130) & (df1[\"height_M\"] >= 0)]\n",
    "df1 = df1[df1[\"common_name\"]!=\"ok to plant vacant\"]\n",
    "df1.head(10)"
   ]
  },
  {
   "cell_type": "code",
   "execution_count": 3,
   "metadata": {},
   "outputs": [
    {
     "data": {
      "text/plain": [
       "array(['Albuquerque', 'Anaheim', 'Aurora', 'Austin', 'Baltimore',\n",
       "       'Boston', 'Buffalo', 'Cape Coral', 'Colorado Springs', 'Columbus',\n",
       "       'Dallas', 'Denver', 'De Soto', 'Newton', 'Baxter', 'Dexter',\n",
       "       'Van Meter', 'Bayard', 'Earlham', 'Mitchellville', 'Panora',\n",
       "       'Stuart', 'Milo', 'Adair', 'Hartford', 'Carlisle', 'Monroe',\n",
       "       'Prairie City', 'Colfax', 'Dallas Center', 'Guthrie Center',\n",
       "       'Polk City', 'Waukee', 'Runnells', 'Elkhart', 'Granger',\n",
       "       'Pleasant Hill', 'Oakland Acres', 'Kellogg', 'Woodward', 'Bouton',\n",
       "       'Union', 'Des Moines', 'Redfield', 'Windsor Heights', 'Sully',\n",
       "       'Adel', 'Bondurant', 'Coon Rapids', 'Detroit', 'Durham', 'Fresno',\n",
       "       'Garden Grove', 'Grand Rapids', 'Greensboro', 'Kailua', 'Honolulu',\n",
       "       'Kaneohe', nan, 'Waipahu', 'Ahuimanu', 'Heeia', 'Houston',\n",
       "       'Huntington Beach', 'Irvine', 'Knoxville', 'Las Vegas',\n",
       "       'Los Angeles', 'Louisville', 'Madison', 'Miami', 'Cedarburg',\n",
       "       'West Bend', 'Milwaukee', 'Glendale', 'Brown Deer',\n",
       "       'Hales Corners', 'Greenfield', 'Greendale', 'Cudahy', 'West Allis',\n",
       "       'Wauwatosa', 'Fox Point', 'Oak Creek', 'Shorewood', 'Franklin',\n",
       "       'West Milwaukee', 'South Milwaukee', 'Whitefish Bay', 'New Berlin',\n",
       "       'Muskego', 'Wind Lake', 'Watertown', 'Nashville', 'New Orleans',\n",
       "       'New York', 'Oklahoma City', 'Ontario', 'Orlando', 'Overland Park',\n",
       "       'Phoenix', 'Pittsburgh', 'Plano', 'Portland', 'Rancho Cucamonga',\n",
       "       'Richmond', 'Rochester', 'Sacramento', 'San Diego',\n",
       "       'San Francisco', 'Santa Rosa', 'Seattle', 'Sioux Falls',\n",
       "       'St. Louis', 'Stockton', 'Tampa', 'Seffner', 'Temple Terrace',\n",
       "       'Lutz', 'Washington DC'], dtype=object)"
      ]
     },
     "execution_count": 3,
     "metadata": {},
     "output_type": "execute_result"
    }
   ],
   "source": [
    "df1[\"city\"].unique()"
   ]
  },
  {
   "cell_type": "code",
   "execution_count": 4,
   "metadata": {},
   "outputs": [
    {
     "name": "stdout",
     "output_type": "stream",
     "text": [
      "           city        common_name  count  mean_h\n",
      "0         Adair  American basswood      9     0.0\n",
      "1         Adair       American elm      2     0.0\n",
      "2         Adair         Amur maple      8     0.0\n",
      "3         Adair              Apple     16     0.0\n",
      "4         Adair              Birch      2     0.0\n",
      "...         ...                ...    ...     ...\n",
      "13477  Woodward             Spruce      2     0.0\n",
      "13478  Woodward        Sugar maple      5     0.0\n",
      "13479  Woodward          White ash      2     0.0\n",
      "13480  Woodward          White oak      6     0.0\n",
      "13481  Woodward             Willow      1     0.0\n",
      "\n",
      "[13482 rows x 4 columns]\n"
     ]
    }
   ],
   "source": [
    "result = df1.groupby(['city', 'common_name']).agg({'common_name': 'count', 'height_M': 'mean'})\n",
    "result = result.rename(columns={'common_name': 'count', 'height_M': 'mean_h'})\n",
    "result = result.reset_index()\n",
    "print(result)"
   ]
  },
  {
   "cell_type": "code",
   "execution_count": 5,
   "metadata": {},
   "outputs": [],
   "source": [
    "# Save into a csv file \n",
    "result.to_csv(\"../datasets/species_city.csv\", index=False)"
   ]
  }
 ],
 "metadata": {
  "kernelspec": {
   "display_name": "base",
   "language": "python",
   "name": "python3"
  },
  "language_info": {
   "codemirror_mode": {
    "name": "ipython",
    "version": 3
   },
   "file_extension": ".py",
   "mimetype": "text/x-python",
   "name": "python",
   "nbconvert_exporter": "python",
   "pygments_lexer": "ipython3",
   "version": "3.11.5"
  }
 },
 "nbformat": 4,
 "nbformat_minor": 2
}
