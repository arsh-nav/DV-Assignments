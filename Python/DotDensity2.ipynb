{
 "cells": [
  {
   "cell_type": "code",
   "execution_count": 1,
   "metadata": {},
   "outputs": [
    {
     "name": "stderr",
     "output_type": "stream",
     "text": [
      "C:\\Users\\Franc\\AppData\\Local\\Temp\\ipykernel_5752\\3877153638.py:2: DtypeWarning: Columns (0,1,2,8,9,12,13,15,17,18,19,21,22,23,24,25,28,29) have mixed types. Specify dtype option on import or set low_memory=False.\n",
      "  df = pd.read_csv(\"../../combined_file.csv\")\n"
     ]
    }
   ],
   "source": [
    "import pandas as pd\n",
    "df = pd.read_csv(\"../../combined_file.csv\")\n",
    "df = df[df[\"common_name\"] != \"ok to plant vacant\"]"
   ]
  },
  {
   "cell_type": "code",
   "execution_count": 2,
   "metadata": {},
   "outputs": [
    {
     "data": {
      "text/plain": [
       "Index(['most_recent_observation', 'most_recent_observation_type',\n",
       "       'common_name', 'scientific_name', 'city', 'state',\n",
       "       'longitude_coordinate', 'latitude_coordinate', 'address', 'condition',\n",
       "       'height_M', 'native', 'height_binned_M',\n",
       "       'diameter_breast_height_binned_CM', 'greater_metro', 'city_ID',\n",
       "       'tree_ID', 'planted_date', 'retired_date', 'location_type', 'zipcode',\n",
       "       'neighborhood', 'location_name', 'ward', 'district', 'overhead_utility',\n",
       "       'diameter_breast_height_CM', 'percent_population', 'column_name',\n",
       "       'definition'],\n",
       "      dtype='object')"
      ]
     },
     "execution_count": 2,
     "metadata": {},
     "output_type": "execute_result"
    }
   ],
   "source": [
    "df.columns"
   ]
  },
  {
   "cell_type": "code",
   "execution_count": 3,
   "metadata": {},
   "outputs": [
    {
     "data": {
      "text/plain": [
       "420"
      ]
     },
     "execution_count": 3,
     "metadata": {},
     "output_type": "execute_result"
    }
   ],
   "source": [
    "df.zipcode.nunique()"
   ]
  },
  {
   "cell_type": "code",
   "execution_count": 4,
   "metadata": {},
   "outputs": [
    {
     "name": "stdout",
     "output_type": "stream",
     "text": [
      "Total trees: 606935\n"
     ]
    },
    {
     "data": {
      "text/plain": [
       "common_name\n",
       "Norway maple        142560\n",
       "London planetree    122493\n",
       "Red maple           121825\n",
       "Crape myrtle        121775\n",
       "Green ash            98282\n",
       "Name: common_name, dtype: int64"
      ]
     },
     "execution_count": 4,
     "metadata": {},
     "output_type": "execute_result"
    }
   ],
   "source": [
    "top10_df = df.groupby([\"common_name\"])[\"common_name\"].count().sort_values(ascending=False).head(5)\n",
    "\n",
    "print(\"Total trees: \" + str(top10_df.sum()))\n",
    "top10_df"
   ]
  },
  {
   "cell_type": "code",
   "execution_count": 5,
   "metadata": {},
   "outputs": [
    {
     "data": {
      "text/plain": [
       "['Norway maple', 'London planetree', 'Red maple', 'Crape myrtle', 'Green ash']"
      ]
     },
     "execution_count": 5,
     "metadata": {},
     "output_type": "execute_result"
    }
   ],
   "source": [
    "top10 = top10_df.index.to_list()\n",
    "top10"
   ]
  },
  {
   "cell_type": "code",
   "execution_count": 6,
   "metadata": {},
   "outputs": [],
   "source": [
    "df1 = df.copy()\n",
    "df1 = df1[[\"common_name\", \"latitude_coordinate\", \"longitude_coordinate\"]]\n",
    "df1 = df1[df1[\"common_name\"].isin(top10)]\n",
    "df1 = df1.dropna()"
   ]
  },
  {
   "cell_type": "code",
   "execution_count": 7,
   "metadata": {},
   "outputs": [
    {
     "data": {
      "text/html": [
       "<div>\n",
       "<style scoped>\n",
       "    .dataframe tbody tr th:only-of-type {\n",
       "        vertical-align: middle;\n",
       "    }\n",
       "\n",
       "    .dataframe tbody tr th {\n",
       "        vertical-align: top;\n",
       "    }\n",
       "\n",
       "    .dataframe thead th {\n",
       "        text-align: right;\n",
       "    }\n",
       "</style>\n",
       "<table border=\"1\" class=\"dataframe\">\n",
       "  <thead>\n",
       "    <tr style=\"text-align: right;\">\n",
       "      <th></th>\n",
       "      <th>common_name</th>\n",
       "      <th>latitude_coordinate</th>\n",
       "      <th>longitude_coordinate</th>\n",
       "    </tr>\n",
       "  </thead>\n",
       "  <tbody>\n",
       "    <tr>\n",
       "      <th>105</th>\n",
       "      <td>Green ash</td>\n",
       "      <td>35.109380</td>\n",
       "      <td>-106.713241</td>\n",
       "    </tr>\n",
       "    <tr>\n",
       "      <th>109</th>\n",
       "      <td>Green ash</td>\n",
       "      <td>35.109367</td>\n",
       "      <td>-106.713055</td>\n",
       "    </tr>\n",
       "    <tr>\n",
       "      <th>112</th>\n",
       "      <td>Green ash</td>\n",
       "      <td>35.109380</td>\n",
       "      <td>-106.713009</td>\n",
       "    </tr>\n",
       "  </tbody>\n",
       "</table>\n",
       "</div>"
      ],
      "text/plain": [
       "    common_name  latitude_coordinate  longitude_coordinate\n",
       "105   Green ash            35.109380           -106.713241\n",
       "109   Green ash            35.109367           -106.713055\n",
       "112   Green ash            35.109380           -106.713009"
      ]
     },
     "execution_count": 7,
     "metadata": {},
     "output_type": "execute_result"
    }
   ],
   "source": [
    "df1.head(3)"
   ]
  },
  {
   "cell_type": "code",
   "execution_count": 8,
   "metadata": {},
   "outputs": [
    {
     "data": {
      "text/plain": [
       "567507"
      ]
     },
     "execution_count": 8,
     "metadata": {},
     "output_type": "execute_result"
    }
   ],
   "source": [
    "len(df1)"
   ]
  },
  {
   "cell_type": "code",
   "execution_count": 9,
   "metadata": {},
   "outputs": [],
   "source": [
    "df1.to_csv(\"../datasets/dot-density2.csv\", index=False)"
   ]
  },
  {
   "cell_type": "code",
   "execution_count": 10,
   "metadata": {},
   "outputs": [
    {
     "data": {
      "text/plain": [
       "''"
      ]
     },
     "execution_count": 10,
     "metadata": {},
     "output_type": "execute_result"
    }
   ],
   "source": [
    "import json\n",
    "data = df1.copy()\n",
    "\n",
    "features = []\n",
    "for index, row in data.iterrows():\n",
    "    latitude = row['latitude_coordinate']\n",
    "    longitude = row['longitude_coordinate']\n",
    "    name = row['common_name']\n",
    "\n",
    "    feature = {\n",
    "        'type': 'Feature',\n",
    "        'properties': {'name': name},\n",
    "        'geometry': {\n",
    "            'type': 'Point',\n",
    "            'coordinates': [float(longitude), float(latitude)]\n",
    "        }\n",
    "    }\n",
    "    features.append(feature)\n",
    "\n",
    "geojson = {\n",
    "'type': 'FeatureCollection',\n",
    "'features': features\n",
    "}\n",
    "\n",
    "with open('../datasets/dot-density2.geojson', 'w') as f:\n",
    "    json.dump(geojson, f)\n",
    "\n",
    "\"\""
   ]
  }
 ],
 "metadata": {
  "kernelspec": {
   "display_name": "base",
   "language": "python",
   "name": "python3"
  },
  "language_info": {
   "codemirror_mode": {
    "name": "ipython",
    "version": 3
   },
   "file_extension": ".py",
   "mimetype": "text/x-python",
   "name": "python",
   "nbconvert_exporter": "python",
   "pygments_lexer": "ipython3",
   "version": "3.11.5"
  }
 },
 "nbformat": 4,
 "nbformat_minor": 2
}
