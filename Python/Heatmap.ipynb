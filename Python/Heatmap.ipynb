{
 "cells": [
  {
   "cell_type": "code",
   "execution_count": 1,
   "metadata": {},
   "outputs": [
    {
     "name": "stderr",
     "output_type": "stream",
     "text": [
      "C:\\Users\\Franc\\AppData\\Local\\Temp\\ipykernel_12684\\2358656560.py:2: DtypeWarning: Columns (0,1,2,8,9,12,13,15,17,18,19,21,22,23,24,25,28,29) have mixed types. Specify dtype option on import or set low_memory=False.\n",
      "  df = pd.read_csv(\"../../combined_file.csv\")\n"
     ]
    },
    {
     "data": {
      "text/plain": [
       "Index(['most_recent_observation', 'most_recent_observation_type',\n",
       "       'common_name', 'scientific_name', 'city', 'state',\n",
       "       'longitude_coordinate', 'latitude_coordinate', 'address', 'condition',\n",
       "       'height_M', 'native', 'height_binned_M',\n",
       "       'diameter_breast_height_binned_CM', 'greater_metro', 'city_ID',\n",
       "       'tree_ID', 'planted_date', 'retired_date', 'location_type', 'zipcode',\n",
       "       'neighborhood', 'location_name', 'ward', 'district', 'overhead_utility',\n",
       "       'diameter_breast_height_CM', 'percent_population'],\n",
       "      dtype='object')"
      ]
     },
     "execution_count": 1,
     "metadata": {},
     "output_type": "execute_result"
    }
   ],
   "source": [
    "import pandas as pd\n",
    "df = pd.read_csv(\"../../combined_file.csv\")\n",
    "df.drop(['definition', 'column_name'], axis=1, inplace=True)\n",
    "df.columns"
   ]
  },
  {
   "cell_type": "code",
   "execution_count": 2,
   "metadata": {},
   "outputs": [
    {
     "data": {
      "text/html": [
       "<div>\n",
       "<style scoped>\n",
       "    .dataframe tbody tr th:only-of-type {\n",
       "        vertical-align: middle;\n",
       "    }\n",
       "\n",
       "    .dataframe tbody tr th {\n",
       "        vertical-align: top;\n",
       "    }\n",
       "\n",
       "    .dataframe thead th {\n",
       "        text-align: right;\n",
       "    }\n",
       "</style>\n",
       "<table border=\"1\" class=\"dataframe\">\n",
       "  <thead>\n",
       "    <tr style=\"text-align: right;\">\n",
       "      <th></th>\n",
       "      <th>state</th>\n",
       "      <th>city</th>\n",
       "      <th>common_name</th>\n",
       "    </tr>\n",
       "  </thead>\n",
       "  <tbody>\n",
       "    <tr>\n",
       "      <th>0</th>\n",
       "      <td>New Mexico</td>\n",
       "      <td>Albuquerque</td>\n",
       "      <td>Locust</td>\n",
       "    </tr>\n",
       "    <tr>\n",
       "      <th>1</th>\n",
       "      <td>New Mexico</td>\n",
       "      <td>Albuquerque</td>\n",
       "      <td>Oak</td>\n",
       "    </tr>\n",
       "    <tr>\n",
       "      <th>2</th>\n",
       "      <td>New Mexico</td>\n",
       "      <td>Albuquerque</td>\n",
       "      <td>Ash</td>\n",
       "    </tr>\n",
       "    <tr>\n",
       "      <th>3</th>\n",
       "      <td>New Mexico</td>\n",
       "      <td>Albuquerque</td>\n",
       "      <td>Scotch pine</td>\n",
       "    </tr>\n",
       "    <tr>\n",
       "      <th>4</th>\n",
       "      <td>New Mexico</td>\n",
       "      <td>Albuquerque</td>\n",
       "      <td>Honeylocust</td>\n",
       "    </tr>\n",
       "    <tr>\n",
       "      <th>...</th>\n",
       "      <td>...</td>\n",
       "      <td>...</td>\n",
       "      <td>...</td>\n",
       "    </tr>\n",
       "    <tr>\n",
       "      <th>5642805</th>\n",
       "      <td>District of Columbia</td>\n",
       "      <td>Washington DC</td>\n",
       "      <td>Redmond american linden</td>\n",
       "    </tr>\n",
       "    <tr>\n",
       "      <th>5642806</th>\n",
       "      <td>District of Columbia</td>\n",
       "      <td>Washington DC</td>\n",
       "      <td>Dogwood</td>\n",
       "    </tr>\n",
       "    <tr>\n",
       "      <th>5642807</th>\n",
       "      <td>District of Columbia</td>\n",
       "      <td>Washington DC</td>\n",
       "      <td>Flowering dogwood</td>\n",
       "    </tr>\n",
       "    <tr>\n",
       "      <th>5642808</th>\n",
       "      <td>District of Columbia</td>\n",
       "      <td>Washington DC</td>\n",
       "      <td>(see notes)</td>\n",
       "    </tr>\n",
       "    <tr>\n",
       "      <th>5642809</th>\n",
       "      <td>District of Columbia</td>\n",
       "      <td>Washington DC</td>\n",
       "      <td>White oak</td>\n",
       "    </tr>\n",
       "  </tbody>\n",
       "</table>\n",
       "<p>4765590 rows × 3 columns</p>\n",
       "</div>"
      ],
      "text/plain": [
       "                        state           city              common_name\n",
       "0                  New Mexico    Albuquerque                   Locust\n",
       "1                  New Mexico    Albuquerque                      Oak\n",
       "2                  New Mexico    Albuquerque                      Ash\n",
       "3                  New Mexico    Albuquerque              Scotch pine\n",
       "4                  New Mexico    Albuquerque              Honeylocust\n",
       "...                       ...            ...                      ...\n",
       "5642805  District of Columbia  Washington DC  Redmond american linden\n",
       "5642806  District of Columbia  Washington DC                  Dogwood\n",
       "5642807  District of Columbia  Washington DC        Flowering dogwood\n",
       "5642808  District of Columbia  Washington DC              (see notes)\n",
       "5642809  District of Columbia  Washington DC                White oak\n",
       "\n",
       "[4765590 rows x 3 columns]"
      ]
     },
     "execution_count": 2,
     "metadata": {},
     "output_type": "execute_result"
    }
   ],
   "source": [
    "df = df[[\"state\", \"city\", \"common_name\"]]\n",
    "df = df.dropna()\n",
    "df"
   ]
  },
  {
   "cell_type": "code",
   "execution_count": 3,
   "metadata": {},
   "outputs": [],
   "source": [
    "df = df[df[\"common_name\"]!=\"ok to plant vacant\"]"
   ]
  },
  {
   "cell_type": "code",
   "execution_count": 4,
   "metadata": {},
   "outputs": [
    {
     "name": "stdout",
     "output_type": "stream",
     "text": [
      "state\n",
      "Arizona                  1\n",
      "California              13\n",
      "Colorado                 3\n",
      "District of Columbia     1\n",
      "Florida                  7\n",
      "Hawaii                   7\n",
      "Iowa                    37\n",
      "Kansas                   1\n",
      "Kentucky                 1\n",
      "Louisiana                1\n",
      "Maryland                 1\n",
      "Massachusetts            1\n",
      "Michigan                 2\n",
      "Missouri                 1\n",
      "Nevada                   1\n",
      "New Mexico               1\n",
      "New York                 3\n",
      "North Carolina           2\n",
      "Ohio                     1\n",
      "Oklahoma                 1\n",
      "Oregon                   1\n",
      "Pennsylvania             1\n",
      "South Dakota             1\n",
      "Tennessee                2\n",
      "Texas                    4\n",
      "Virginia                 1\n",
      "Washington               1\n",
      "Wisconsin               23\n",
      "Name: city, dtype: int64\n"
     ]
    },
    {
     "name": "stderr",
     "output_type": "stream",
     "text": [
      "C:\\Users\\Franc\\AppData\\Local\\Temp\\ipykernel_12684\\1695214080.py:7: SettingWithCopyWarning: \n",
      "A value is trying to be set on a copy of a slice from a DataFrame.\n",
      "Try using .loc[row_indexer,col_indexer] = value instead\n",
      "\n",
      "See the caveats in the documentation: https://pandas.pydata.org/pandas-docs/stable/user_guide/indexing.html#returning-a-view-versus-a-copy\n",
      "  df['state'] = df['state'].apply(lambda x: 'Other' if x in states_to_rename else x)\n"
     ]
    },
    {
     "name": "stdout",
     "output_type": "stream",
     "text": [
      "state\n",
      "California    13\n",
      "Colorado       3\n",
      "Florida        7\n",
      "Hawaii         7\n",
      "Iowa          37\n",
      "New York       3\n",
      "Other         23\n",
      "Texas          4\n",
      "Wisconsin     23\n",
      "Name: city, dtype: int64\n"
     ]
    }
   ],
   "source": [
    "# Count of unique cities per state\n",
    "city_counts = df.groupby('state')['city'].nunique()\n",
    "print(city_counts)\n",
    "\n",
    "# Change to \"Other\" the states with less than 3 cities\n",
    "states_to_rename = city_counts[city_counts < 3].index\n",
    "df['state'] = df['state'].apply(lambda x: 'Other' if x in states_to_rename else x)\n",
    "\n",
    "# Updated count of unique cities per state\n",
    "updated_city_counts = df.groupby('state')['city'].nunique()\n",
    "print(updated_city_counts)"
   ]
  },
  {
   "cell_type": "code",
   "execution_count": 5,
   "metadata": {},
   "outputs": [
    {
     "data": {
      "text/plain": [
       "array(['Other', 'California', 'Colorado', 'Texas', 'New York', 'Florida',\n",
       "       'Iowa', 'Hawaii', 'Wisconsin'], dtype=object)"
      ]
     },
     "execution_count": 5,
     "metadata": {},
     "output_type": "execute_result"
    }
   ],
   "source": [
    "df[\"state\"].unique()"
   ]
  },
  {
   "cell_type": "code",
   "execution_count": 6,
   "metadata": {},
   "outputs": [
    {
     "name": "stdout",
     "output_type": "stream",
     "text": [
      "           state           city          common_name  count\n",
      "0     California        Anaheim    American sweetgum   1433\n",
      "1     California        Anaheim          Bottle tree    416\n",
      "2     California        Anaheim         Brisbane box   1609\n",
      "3     California        Anaheim  California sycamore    634\n",
      "4     California        Anaheim         Camphor tree   2567\n",
      "...          ...            ...                  ...    ...\n",
      "2014   Wisconsin  Whitefish Bay          Honeylocust     10\n",
      "2015   Wisconsin  Whitefish Bay         Norway maple      2\n",
      "2016   Wisconsin  Whitefish Bay              Red oak      7\n",
      "2017   Wisconsin  Whitefish Bay          Sugar maple      1\n",
      "2018   Wisconsin  Whitefish Bay            White ash      3\n",
      "\n",
      "[2019 rows x 4 columns]\n"
     ]
    }
   ],
   "source": [
    "# Top 30 most frequent trees per state\n",
    "top_trees_by_state = df['common_name'].groupby([df['state'], df['common_name']]).size().reset_index(name='count')\n",
    "top_trees_by_state = top_trees_by_state.groupby('state').apply(lambda x: x.nlargest(30, 'count')).reset_index(drop=True)\n",
    "\n",
    "# Count trees per city (only consider the trees in the top 30 of the state of the city)\n",
    "result = df.merge(top_trees_by_state, on=['state', 'common_name'], how='inner')\n",
    "result = result.groupby(['state', 'city', 'common_name']).size().reset_index(name='count')\n",
    "\n",
    "print(result)"
   ]
  },
  {
   "cell_type": "code",
   "execution_count": 7,
   "metadata": {},
   "outputs": [],
   "source": [
    "result.to_csv(\"../datasets/state_species_count.csv\", index=False)"
   ]
  }
 ],
 "metadata": {
  "kernelspec": {
   "display_name": "base",
   "language": "python",
   "name": "python3"
  },
  "language_info": {
   "codemirror_mode": {
    "name": "ipython",
    "version": 3
   },
   "file_extension": ".py",
   "mimetype": "text/x-python",
   "name": "python",
   "nbconvert_exporter": "python",
   "pygments_lexer": "ipython3",
   "version": "3.11.5"
  }
 },
 "nbformat": 4,
 "nbformat_minor": 2
}
