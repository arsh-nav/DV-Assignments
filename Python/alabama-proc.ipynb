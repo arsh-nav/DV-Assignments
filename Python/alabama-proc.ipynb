{
 "cells": [
  {
   "cell_type": "code",
   "execution_count": null,
   "id": "bbc8fbd3-6ec0-4ee8-a615-1c77f9d5a913",
   "metadata": {},
   "outputs": [
    {
     "name": "stdout",
     "output_type": "stream",
     "text": [
      "Data from file1.csv:\n",
      "     Date  Value  Anomaly\n",
      "0  196801   31.5     -2.7\n",
      "1  196802   28.0     -8.4\n",
      "2  196803   38.0     -4.9\n",
      "3  196804   51.1      1.0\n",
      "4  196805   56.8     -1.5\n",
      "\n",
      "Data from file2.csv:\n",
      "     Date  Value  Anomaly\n",
      "0  196801   53.1     -2.9\n",
      "1  196802   51.9     -7.7\n",
      "2  196803   66.1     -1.1\n",
      "3  196804   76.4      0.8\n",
      "4  196805   81.3     -1.7\n"
     ]
    }
   ],
   "source": [
    "import pandas as pd\n",
    "\n",
    "# Replace 'file1.csv' and 'file2.csv' with the actual file paths of your CSV files\n",
    "file1_path = '../datasets/alabama-min.csv'\n",
    "file2_path = '../datasets/alabama-max.csv'\n",
    "\n",
    "# Read the CSV files\n",
    "data1 = pd.read_csv(file1_path)\n",
    "data2 = pd.read_csv(file2_path)\n",
    "\n",
    "# Display the first few rows of each dataset to verify they were read correctly\n",
    "print(\"Data from file1.csv:\")\n",
    "print(data1.head())\n",
    "\n",
    "print(\"\\nData from file2.csv:\")\n",
    "print(data2.head())\n"
   ]
  },
  {
   "cell_type": "code",
   "execution_count": 3,
   "id": "89801934-d34d-4664-9899-23ced0dd8695",
   "metadata": {},
   "outputs": [
    {
     "name": "stdout",
     "output_type": "stream",
     "text": [
      "       Date   Min   Max\n",
      "0    197801  26.8  44.4\n",
      "1    197802  27.3  50.3\n",
      "2    197803  38.8  63.6\n",
      "3    197804  49.7  78.0\n",
      "4    197805  58.4  81.6\n",
      "..      ...   ...   ...\n",
      "115  202208  70.2  88.4\n",
      "116  202209  62.2  85.5\n",
      "117  202210  46.9  75.6\n",
      "118  202211  43.9  66.8\n",
      "119  202212  39.5  58.8\n",
      "\n",
      "[120 rows x 3 columns]\n"
     ]
    }
   ],
   "source": [
    "import pandas as pd\n",
    "\n",
    "# Assuming data1 and data2 are your loaded DataFrames\n",
    "# Filter rows based on the list of years\n",
    "years_to_keep = [2022, 2018, 2013, 2008, 2003, 1998, 1993, 1988, 1983, 1978]\n",
    "data1['Year'] = data1['Date'] // 100  # Extracting year from the 'Date' column\n",
    "filtered_data1 = data1[data1['Year'].isin(years_to_keep)].drop(columns=['Anomaly', 'Year'])\n",
    "\n",
    "data2['Year'] = data2['Date'] // 100  # Extracting year from the 'Date' column\n",
    "filtered_data2 = data2[data2['Year'].isin(years_to_keep)].drop(columns=['Anomaly', 'Year'])\n",
    "\n",
    "# Merge the filtered datasets based on the 'Date' column and find min and max values\n",
    "merged_data = pd.merge(filtered_data1, filtered_data2, on='Date', suffixes=('_1', '_2'))\n",
    "merged_data['Min'] = merged_data[['Value_1', 'Value_2']].min(axis=1)\n",
    "merged_data['Max'] = merged_data[['Value_1', 'Value_2']].max(axis=1)\n",
    "final_data = merged_data[['Date', 'Min', 'Max']]\n",
    "\n",
    "# Display the resulting DataFrame\n",
    "print(final_data)\n"
   ]
  },
  {
   "cell_type": "code",
   "execution_count": 4,
   "id": "ea43b733-3200-4c34-a38c-c8dd3d29beef",
   "metadata": {},
   "outputs": [],
   "source": [
    "final_data.to_csv('../datasets/alabama_p.csv', index=False)"
   ]
  },
  {
   "cell_type": "code",
   "execution_count": null,
   "id": "6e0868a3-2c40-4140-8cab-58e640aecb2e",
   "metadata": {},
   "outputs": [],
   "source": []
  }
 ],
 "metadata": {
  "kernelspec": {
   "display_name": "Python 3 (ipykernel)",
   "language": "python",
   "name": "python3"
  },
  "language_info": {
   "codemirror_mode": {
    "name": "ipython",
    "version": 3
   },
   "file_extension": ".py",
   "mimetype": "text/x-python",
   "name": "python",
   "nbconvert_exporter": "python",
   "pygments_lexer": "ipython3",
   "version": "3.11.5"
  }
 },
 "nbformat": 4,
 "nbformat_minor": 5
}
