{
 "cells": [
  {
   "cell_type": "code",
   "execution_count": 1,
   "id": "67e13229-5245-4a81-b787-94e0f2fc4091",
   "metadata": {},
   "outputs": [
    {
     "name": "stderr",
     "output_type": "stream",
     "text": [
      "C:\\Users\\Laptop\\AppData\\Local\\Temp\\ipykernel_18748\\3877153638.py:2: DtypeWarning: Columns (0,1,2,8,9,12,13,15,17,18,19,21,22,23,24,25,28,29) have mixed types. Specify dtype option on import or set low_memory=False.\n",
      "  df = pd.read_csv(\"../../combined_file.csv\")\n"
     ]
    }
   ],
   "source": [
    "import pandas as pd\n",
    "import numpy as np\n",
    "df = pd.read_csv(\"../../combined_file.csv\")\n",
    "df = df[df[\"common_name\"] != \"ok to plant vacant\"]"
   ]
  },
  {
   "cell_type": "code",
   "execution_count": 2,
   "id": "f46b90b7-d4f4-4950-a4d0-9f22a4417fd5",
   "metadata": {},
   "outputs": [
    {
     "data": {
      "text/plain": [
       "Index(['most_recent_observation', 'most_recent_observation_type',\n",
       "       'common_name', 'scientific_name', 'city', 'state',\n",
       "       'longitude_coordinate', 'latitude_coordinate', 'address', 'condition',\n",
       "       'height_M', 'native', 'height_binned_M',\n",
       "       'diameter_breast_height_binned_CM', 'greater_metro', 'city_ID',\n",
       "       'tree_ID', 'planted_date', 'retired_date', 'location_type', 'zipcode',\n",
       "       'neighborhood', 'location_name', 'ward', 'district', 'overhead_utility',\n",
       "       'diameter_breast_height_CM', 'percent_population', 'column_name',\n",
       "       'definition'],\n",
       "      dtype='object')"
      ]
     },
     "execution_count": 2,
     "metadata": {},
     "output_type": "execute_result"
    }
   ],
   "source": [
    "df.columns\n"
   ]
  },
  {
   "cell_type": "code",
   "execution_count": 7,
   "id": "8223d249-fc75-4ddf-a5c2-a678aa005f3a",
   "metadata": {},
   "outputs": [
    {
     "name": "stdout",
     "output_type": "stream",
     "text": [
      "Total trees: 1042325\n"
     ]
    },
    {
     "data": {
      "text/plain": [
       "common_name\n",
       "Norway maple         142560\n",
       "London planetree     122493\n",
       "Red maple            121825\n",
       "Crape myrtle         121775\n",
       "Green ash             98282\n",
       "Callery pear          94271\n",
       "Honeylocust           91954\n",
       "Live oak              83648\n",
       "Pin oak               83187\n",
       "Littleleaf linden     82330\n",
       "Name: common_name, dtype: int64"
      ]
     },
     "execution_count": 7,
     "metadata": {},
     "output_type": "execute_result"
    }
   ],
   "source": [
    "\n",
    "top10_df = df.groupby([\"common_name\"])[\"common_name\"].count().sort_values(ascending=False).head(10)\n",
    "\n",
    "print(\"Total trees: \" + str(top10_df.sum()))\n",
    "top10_df"
   ]
  },
  {
   "cell_type": "code",
   "execution_count": 8,
   "id": "5e748d9e-9921-4bee-8d24-b001413c15f6",
   "metadata": {},
   "outputs": [
    {
     "data": {
      "text/plain": [
       "['Norway maple',\n",
       " 'London planetree',\n",
       " 'Red maple',\n",
       " 'Crape myrtle',\n",
       " 'Green ash',\n",
       " 'Callery pear',\n",
       " 'Honeylocust',\n",
       " 'Live oak',\n",
       " 'Pin oak',\n",
       " 'Littleleaf linden']"
      ]
     },
     "execution_count": 8,
     "metadata": {},
     "output_type": "execute_result"
    }
   ],
   "source": [
    "top10 = top10_df.index.to_list()\n",
    "top10"
   ]
  },
  {
   "cell_type": "code",
   "execution_count": 9,
   "id": "2eac861c-3383-4b38-ae5a-1cabccb7d327",
   "metadata": {},
   "outputs": [],
   "source": [
    "df1 = df.copy()\n",
    "df1 = df1[[\"common_name\", \"latitude_coordinate\", \"longitude_coordinate\"]]\n",
    "df1.loc[~df1['common_name'].isin(top10), 'common_name'] = np.nan\n",
    "df1 = df1.dropna(subset=['latitude_coordinate', 'longitude_coordinate'])"
   ]
  },
  {
   "cell_type": "code",
   "execution_count": 10,
   "id": "3550a96e-04ca-4b54-926f-66a370949f49",
   "metadata": {},
   "outputs": [
    {
     "data": {
      "text/plain": [
       "971888"
      ]
     },
     "execution_count": 10,
     "metadata": {},
     "output_type": "execute_result"
    }
   ],
   "source": [
    "len(df1)"
   ]
  },
  {
   "cell_type": "code",
   "execution_count": 14,
   "id": "c85b9ccc-e400-4adf-911a-ded36eb14c33",
   "metadata": {},
   "outputs": [],
   "source": [
    "df1.to_csv(\"../datasets/dd.csv\", index=False)"
   ]
  },
  {
   "cell_type": "code",
   "execution_count": 15,
   "id": "5e111040-da34-4926-a597-c94252e8614f",
   "metadata": {},
   "outputs": [
    {
     "data": {
      "text/plain": [
       "''"
      ]
     },
     "execution_count": 15,
     "metadata": {},
     "output_type": "execute_result"
    }
   ],
   "source": [
    "import json\n",
    "data = df1.copy()\n",
    "\n",
    "features = []\n",
    "for index, row in data.iterrows():\n",
    "    latitude = row['latitude_coordinate']\n",
    "    longitude = row['longitude_coordinate']\n",
    "    name = row['common_name']\n",
    "\n",
    "    feature = {\n",
    "        'type': 'Feature',\n",
    "        'properties': {'name': name},\n",
    "        'geometry': {\n",
    "            'type': 'Point',\n",
    "            'coordinates': [float(longitude), float(latitude)]\n",
    "        }\n",
    "    }\n",
    "    features.append(feature)\n",
    "\n",
    "geojson = {\n",
    "'type': 'FeatureCollection',\n",
    "'features': features\n",
    "}\n",
    "\n",
    "with open('../datasets/dd.geojson', 'w') as f:\n",
    "    json.dump(geojson, f)\n",
    "\n",
    "\"\""
   ]
  },
  {
   "cell_type": "code",
   "execution_count": null,
   "id": "fda5d482-b285-4c0d-a749-ed4fab9c04c6",
   "metadata": {},
   "outputs": [],
   "source": []
  }
 ],
 "metadata": {
  "kernelspec": {
   "display_name": "Python 3 (ipykernel)",
   "language": "python",
   "name": "python3"
  },
  "language_info": {
   "codemirror_mode": {
    "name": "ipython",
    "version": 3
   },
   "file_extension": ".py",
   "mimetype": "text/x-python",
   "name": "python",
   "nbconvert_exporter": "python",
   "pygments_lexer": "ipython3",
   "version": "3.11.5"
  }
 },
 "nbformat": 4,
 "nbformat_minor": 5
}
