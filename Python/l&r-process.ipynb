{
 "cells": [
  {
   "cell_type": "code",
   "execution_count": 18,
   "id": "0a2c83e6-af62-43be-bffe-91f94d571c64",
   "metadata": {},
   "outputs": [],
   "source": [
    "import pandas as pd\n",
    "import calendar\n",
    "\n",
    "# Read the first CSV file\n",
    "data = pd.read_csv('fallback.csv', delimiter=',')\n",
    "\n",
    "# Convert abbreviated month names to full month names in the DataFrame\n",
    "month_mapping = {calendar.month_abbr[i]: calendar.month_name[i] for i in range(1, 13)}\n",
    "data.columns = [month_mapping.get(col, col) if col in month_mapping else col for col in data.columns]\n",
    "\n",
    "# Filter data for 'RegionName' = 'National'\n",
    "filtered_data = data[data['RegionName'] == 'National']\n",
    "\n",
    "# Extract specific years\n",
    "selected_years = [1978, 1983, 1988, 1993, 1998, 2003, 2008, 2013, 2018, 2022]\n",
    "\n",
    "# Create an empty list to store data\n",
    "result_data = []\n",
    "\n",
    "# Iterate through selected years and populate the result list\n",
    "for year in selected_years:\n",
    "    year_data = filtered_data[filtered_data['Year'] == year]  # Filter data for the specific year\n",
    "    for month_col in data.columns[5:]:  # Assuming columns from 'January' onwards are months\n",
    "        try:\n",
    "            month_val = year_data.loc[year_data['Type'] == 'Minimum', month_col].values\n",
    "            if len(month_val) > 0 and month_val[0] != '':\n",
    "                min_val = month_val[0]\n",
    "                max_val = year_data.loc[year_data['Type'] == 'Maximum', month_col].values[0]\n",
    "                mean_val = year_data.loc[year_data['Type'] == 'Average', month_col].values[0]\n",
    "                result_data.append({'Month': month_col, 'Year': year, 'min': min_val, 'max': max_val, 'mean': mean_val})\n",
    "        except Exception as e:\n",
    "            print(f\"Error processing column {month_col}: {e}\")\n",
    "\n",
    "# Create a DataFrame from the result list\n",
    "result = pd.DataFrame(result_data, columns=['Month', 'Year', 'min', 'max', 'mean'])\n",
    "\n",
    "# Save the resulting dataframe into a CSV file\n",
    "result.to_csv('formatted_data.csv', index=False)\n"
   ]
  },
  {
   "cell_type": "code",
   "execution_count": null,
   "id": "d27718e0-beb0-4433-b4fe-125b4181a166",
   "metadata": {},
   "outputs": [],
   "source": []
  }
 ],
 "metadata": {
  "kernelspec": {
   "display_name": "Python 3 (ipykernel)",
   "language": "python",
   "name": "python3"
  },
  "language_info": {
   "codemirror_mode": {
    "name": "ipython",
    "version": 3
   },
   "file_extension": ".py",
   "mimetype": "text/x-python",
   "name": "python",
   "nbconvert_exporter": "python",
   "pygments_lexer": "ipython3",
   "version": "3.11.5"
  }
 },
 "nbformat": 4,
 "nbformat_minor": 5
}
